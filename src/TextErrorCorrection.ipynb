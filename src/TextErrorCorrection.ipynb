{
  "cells": [
    {
      "cell_type": "code",
      "execution_count": null,
      "metadata": {
        "id": "NhEUWCwREwK8"
      },
      "outputs": [],
      "source": [
        "import pandas as pd\n",
        "import numpy as np\n",
        "import nltk\n",
        "import re\n",
        "from collections import Counter"
      ]
    },
    {
      "cell_type": "code",
      "execution_count": null,
      "metadata": {
        "id": "QycgzoazE7a8"
      },
      "outputs": [],
      "source": [
        "def process_data(file_name):\n",
        "\n",
        "  with open(file_name) as f:\n",
        "    file = f.read()\n",
        "    file = file.lower()\n",
        "    return re.findall(r'\\w+', file)"
      ]
    },
    {
      "cell_type": "code",
      "source": [
        "word_l = process_data('shakespeare.txt')\n",
        "vocab = set(word_l)\n",
        "len(vocab),len(word_l)"
      ],
      "metadata": {
        "colab": {
          "base_uri": "https://localhost:8080/"
        },
        "id": "rTox4en-j7oT",
        "outputId": "7de3d31d-de4d-4fed-fbbf-93ffeee768ed"
      },
      "execution_count": null,
      "outputs": [
        {
          "output_type": "execute_result",
          "data": {
            "text/plain": [
              "(6116, 53614)"
            ]
          },
          "metadata": {},
          "execution_count": 3
        }
      ]
    },
    {
      "cell_type": "code",
      "source": [
        "word_l[:4]"
      ],
      "metadata": {
        "colab": {
          "base_uri": "https://localhost:8080/"
        },
        "id": "hd0Ep1wpuG65",
        "outputId": "f3dfc6f4-af3c-44d2-df48-edf62feba4fc"
      },
      "execution_count": null,
      "outputs": [
        {
          "output_type": "execute_result",
          "data": {
            "text/plain": [
              "['o', 'for', 'a', 'muse']"
            ]
          },
          "metadata": {},
          "execution_count": 4
        }
      ]
    },
    {
      "cell_type": "code",
      "source": [
        "def get_count(word_l):\n",
        "\n",
        "  word_count = Counter(word_l)\n",
        "  return word_count"
      ],
      "metadata": {
        "id": "6yqrxSYzkHiO"
      },
      "execution_count": null,
      "outputs": []
    },
    {
      "cell_type": "code",
      "source": [
        "word_count_dict = get_count(word_l)\n",
        "len(word_count_dict),word_count_dict[\"thee\"]"
      ],
      "metadata": {
        "colab": {
          "base_uri": "https://localhost:8080/"
        },
        "id": "3AaghdiWqCH4",
        "outputId": "4c365557-8ef6-4210-fd42-581535fd1a1d"
      },
      "execution_count": null,
      "outputs": [
        {
          "output_type": "execute_result",
          "data": {
            "text/plain": [
              "(6116, 240)"
            ]
          },
          "metadata": {},
          "execution_count": 6
        }
      ]
    },
    {
      "cell_type": "code",
      "source": [
        "def get_probs(word_count_dict):\n",
        "\n",
        "  probs = {}\n",
        "  M = sum(word_count_dict.values())\n",
        "\n",
        "  for word, count in word_count_dict.items():\n",
        "    probs[word] = count / M\n",
        "\n",
        "  return probs"
      ],
      "metadata": {
        "id": "1O-knUUpqQ6q"
      },
      "execution_count": null,
      "outputs": []
    },
    {
      "cell_type": "code",
      "source": [
        "probs = get_probs(word_count_dict)"
      ],
      "metadata": {
        "id": "O1bRQyMAqsnD"
      },
      "execution_count": null,
      "outputs": []
    },
    {
      "cell_type": "code",
      "source": [
        "len(probs),probs['thee']"
      ],
      "metadata": {
        "colab": {
          "base_uri": "https://localhost:8080/"
        },
        "id": "QmDROBDXtzvT",
        "outputId": "1d6e8e31-ace4-4012-de29-cbcb7b4a2fff"
      },
      "execution_count": null,
      "outputs": [
        {
          "output_type": "execute_result",
          "data": {
            "text/plain": [
              "(6116, 0.004476442720185026)"
            ]
          },
          "metadata": {},
          "execution_count": 9
        }
      ]
    },
    {
      "cell_type": "code",
      "source": [
        "def delete_letter(word):\n",
        "\n",
        "  # skip one letter\n",
        "  # ex: like -> [ike, lke, lie, lik]\n",
        "  delete = [ word[:i] + word[i+1:] for i in range(len(word)) ]\n",
        "\n",
        "  return delete"
      ],
      "metadata": {
        "id": "fdnVvQR0vG8W"
      },
      "execution_count": null,
      "outputs": []
    },
    {
      "cell_type": "code",
      "source": [
        "def switch_letter(word):\n",
        "\n",
        "  # ex: eat -> [aet, eta]\n",
        "  switch = [ word[:i] + word[i+1] + word[i] + word[i+2:]\n",
        "            for i in range(len(word)-1) ]\n",
        "\n",
        "  return switch\n",
        "\n",
        "#switch_letter('eta')"
      ],
      "metadata": {
        "id": "qqxoO9qL4QOx"
      },
      "execution_count": null,
      "outputs": []
    },
    {
      "cell_type": "code",
      "source": [
        "import string\n",
        "letters = string.ascii_lowercase\n",
        "\n",
        "def replace_letter(word):\n",
        "\n",
        "  replace = []\n",
        "  dlt = delete_letter(word)\n",
        "\n",
        "  for i,d in enumerate(dlt):\n",
        "\n",
        "    for j in range(len(letters)):\n",
        "\n",
        "      replace.append(d[:i] + letters[j] + d[i:])\n",
        "\n",
        "  rep_set = sorted(set(replace))\n",
        "\n",
        "  return rep_set"
      ],
      "metadata": {
        "id": "muoGQ0owIneF"
      },
      "execution_count": null,
      "outputs": []
    },
    {
      "cell_type": "code",
      "source": [
        "#replace_letter('can')"
      ],
      "metadata": {
        "id": "0IVFqlsE9fdi"
      },
      "execution_count": null,
      "outputs": []
    },
    {
      "cell_type": "code",
      "source": [
        "def insert_letter(word):\n",
        "\n",
        "  insert = []\n",
        "\n",
        "  for i in range(len(word)+1):\n",
        "\n",
        "    for j in letters:\n",
        "      insert.append(word[:i] + j + word[i:])\n",
        "\n",
        "  return insert\n",
        "\n",
        "#insert_letter('catalog')"
      ],
      "metadata": {
        "id": "CmkHpzb__3mM"
      },
      "execution_count": null,
      "outputs": []
    },
    {
      "cell_type": "code",
      "source": [
        "def edit_one_letter(word, allow_switches = True):\n",
        "\n",
        "  delete = delete_letter(word)\n",
        "  replace = replace_letter(word)\n",
        "  insert = insert_letter(word)\n",
        "\n",
        "  switch = []\n",
        "  if allow_switches:\n",
        "    switch = switch_letter(word)\n",
        "\n",
        "  return set(delete + replace + insert + switch)"
      ],
      "metadata": {
        "id": "xtB5FucmEQ_J"
      },
      "execution_count": null,
      "outputs": []
    },
    {
      "cell_type": "code",
      "source": [
        "print(\"number of corrected words:\", len(edit_one_letter('catq')))\n",
        "print(\"corrected words intersected with vocab\", edit_one_letter('catq').intersection(vocab))"
      ],
      "metadata": {
        "colab": {
          "base_uri": "https://localhost:8080/"
        },
        "id": "eXrOhdJoABaP",
        "outputId": "300106d2-2fc4-4641-d483-39e31cbcf844"
      },
      "execution_count": null,
      "outputs": [
        {
          "output_type": "stream",
          "name": "stdout",
          "text": [
            "number of corrected words: 234\n",
            "corrected words intersected with vocab {'cat'}\n"
          ]
        }
      ]
    },
    {
      "cell_type": "code",
      "source": [
        "def edit_two_letters(word, allow_switches = True):\n",
        "\n",
        "  edit_1 = edit_one_letter(word, allow_switches)\n",
        "  edit_2 = set()\n",
        "\n",
        "  for w in edit_1:\n",
        "    edit_2.update(edit_one_letter(w,allow_switches))\n",
        "\n",
        "  return edit_2"
      ],
      "metadata": {
        "id": "-lMHOtupHMmJ"
      },
      "execution_count": null,
      "outputs": []
    },
    {
      "cell_type": "code",
      "source": [
        "len(edit_two_letters('catt'))"
      ],
      "metadata": {
        "colab": {
          "base_uri": "https://localhost:8080/"
        },
        "id": "VgF9njP9IIi3",
        "outputId": "ff77e1a4-b74a-4e15-f0ab-f6e12394a9bd"
      },
      "execution_count": null,
      "outputs": [
        {
          "output_type": "execute_result",
          "data": {
            "text/plain": [
              "23353"
            ]
          },
          "metadata": {},
          "execution_count": 18
        }
      ]
    },
    {
      "cell_type": "code",
      "source": [
        "def get_corrections(word, probs, vocab):\n",
        "\n",
        "  suggestions = []\n",
        "\n",
        "  if word in vocab:\n",
        "    suggestions.append(word)\n",
        "    return [word, probs[word]]\n",
        "\n",
        "  edit_1 = edit_one_letter(word).intersection(vocab)\n",
        "  suggestions.append(edit_1)\n",
        "\n",
        "  if not suggestions:\n",
        "    edit_2 = edit_two_letters(word).intersection(vocab)\n",
        "    suggestions.append(edit_2)\n",
        "\n",
        "  n_best = sorted([[w,probs[w]] for w in suggestions[0]], key=lambda x:x[1],reverse =True)\n",
        "\n",
        "  return n_best"
      ],
      "metadata": {
        "id": "0MiFer6dMC65"
      },
      "execution_count": null,
      "outputs": []
    },
    {
      "cell_type": "code",
      "source": [
        "get_corrections('carx',probs,vocab)"
      ],
      "metadata": {
        "colab": {
          "base_uri": "https://localhost:8080/"
        },
        "id": "O2-QtUkT8kT0",
        "outputId": "7e8e5907-4e82-4319-b691-8e2fb770e79f"
      },
      "execution_count": null,
      "outputs": [
        {
          "output_type": "execute_result",
          "data": {
            "text/plain": [
              "[['care', 0.00022382213600925132],\n",
              " ['cars', 1.865184466743761e-05],\n",
              " ['carp', 1.865184466743761e-05]]"
            ]
          },
          "metadata": {},
          "execution_count": 71
        }
      ]
    },
    {
      "cell_type": "code",
      "source": [
        "def min_edit_distance(source, target, ins_cost = 1, del_cost = 1, rep_cost = 2):\n",
        "\n",
        "    # use deletion and insert cost as  1\n",
        "    m = len(source)\n",
        "    n = len(target)\n",
        "\n",
        "    #initialize cost matrix with zeros and dimensions (m+1,n+1)\n",
        "    D = np.zeros((m+1, n+1), dtype=int)\n",
        "\n",
        "    # Fill in column 0, from row 1 to row m, both inclusive\n",
        "    for row in range(1,m+1): # Replace None with the proper range\n",
        "        D[row,0] = D[row-1,0] + del_cost\n",
        "\n",
        "    # Fill in row 0, for all columns from 1 to n, both inclusive\n",
        "    for col in range(1,n+1): # Replace None with the proper range\n",
        "        D[0,col] = D[0,col-1] + ins_cost\n",
        "\n",
        "    # Loop through row 1 to row m, both inclusive\n",
        "    for row in range(1,m+1):\n",
        "\n",
        "        # Loop through column 1 to column n, both inclusive\n",
        "        for col in range(1,n+1):\n",
        "\n",
        "            # Intialize r_cost to the 'replace' cost that is passed into this function\n",
        "            r_cost = rep_cost\n",
        "\n",
        "            # Check to see if source character at the previous row\n",
        "            # matches the target character at the previous column,\n",
        "            if source[row-1] == target[col-1]:\n",
        "                # Update the replacement cost to 0 if source and target are the same\n",
        "                r_cost = 0\n",
        "\n",
        "            # Update the cost at row, col based on previous entries in the cost matrix\n",
        "            # Refer to the equation calculate for D[i,j] (the minimum of three calculated costs)\n",
        "            D[row,col] = min([D[row-1,col]+del_cost, D[row,col-1]+ins_cost, D[row-1,col-1]+r_cost])\n",
        "\n",
        "    # Set the minimum edit distance with the cost found at row m, column n\n",
        "    med = D[m,n]\n",
        "\n",
        "    return D, med\n"
      ],
      "metadata": {
        "id": "p6NRb0cQ6ve9"
      },
      "execution_count": null,
      "outputs": []
    },
    {
      "cell_type": "code",
      "source": [
        "source =  'dys'\n",
        "target = 'days'\n",
        "matrix, min_edits = min_edit_distance(source, target)\n",
        "print(\"minimum edits: \",min_edits, \"\\n\")\n",
        "idx = list('#' + source)\n",
        "cols = list('#' + target)\n",
        "df = pd.DataFrame(matrix, index=idx, columns= cols)\n",
        "print(df)"
      ],
      "metadata": {
        "colab": {
          "base_uri": "https://localhost:8080/"
        },
        "id": "UjlzQZE9601w",
        "outputId": "a2f1f691-765d-4694-f2f7-be7669b86e5a"
      },
      "execution_count": null,
      "outputs": [
        {
          "output_type": "stream",
          "name": "stdout",
          "text": [
            "minimum edits:  1 \n",
            "\n",
            "   #  d  a  y  s\n",
            "#  0  1  2  3  4\n",
            "d  1  0  1  2  3\n",
            "y  2  1  2  1  2\n",
            "s  3  2  3  2  1\n"
          ]
        }
      ]
    },
    {
      "cell_type": "code",
      "source": [],
      "metadata": {
        "id": "S-3X9G7RE-cq"
      },
      "execution_count": null,
      "outputs": []
    }
  ],
  "metadata": {
    "colab": {
      "provenance": []
    },
    "kernelspec": {
      "display_name": "Python 3",
      "name": "python3"
    },
    "language_info": {
      "name": "python"
    }
  },
  "nbformat": 4,
  "nbformat_minor": 0
}